{
  "nbformat": 4,
  "nbformat_minor": 0,
  "metadata": {
    "colab": {
      "name": "Untitled19.ipynb",
      "provenance": [],
      "collapsed_sections": []
    },
    "kernelspec": {
      "name": "python3",
      "display_name": "Python 3"
    },
    "accelerator": "GPU"
  },
  "cells": [
    {
      "cell_type": "markdown",
      "metadata": {
        "id": "2WPi0C6TGwm3",
        "colab_type": "text"
      },
      "source": [
        "# Basic Tutorial for TensorFlow\n"
      ]
    },
    {
      "cell_type": "code",
      "metadata": {
        "id": "ntBLc93DGSfC",
        "colab_type": "code",
        "colab": {}
      },
      "source": [
        "!pip -q install aquvitae"
      ],
      "execution_count": 1,
      "outputs": []
    },
    {
      "cell_type": "code",
      "metadata": {
        "id": "K1bsXjbMI79G",
        "colab_type": "code",
        "colab": {}
      },
      "source": [
        "!wget -q --load-cookies /tmp/cookies.txt \"https://docs.google.com/uc?export=download&confirm=$(wget --quiet --save-cookies /tmp/cookies.txt --keep-session-cookies --no-check-certificate 'https://docs.google.com/uc?export=download&id=1D28_TKauDVFO2nVlUeK_fuZX85zAO5o4' -O- | sed -rn 's/.*confirm=([0-9A-Za-z_]+).*/\\1\\n/p')&id=1D28_TKauDVFO2nVlUeK_fuZX85zAO5o4\" -O teacher.h5 && rm -rf /tmp/cookies.txt"
      ],
      "execution_count": 2,
      "outputs": []
    },
    {
      "cell_type": "code",
      "metadata": {
        "id": "u1ePiVBpGTyD",
        "colab_type": "code",
        "colab": {}
      },
      "source": [
        "import tensorflow as tf\n",
        "\n",
        "from aquvitae import dist, ST"
      ],
      "execution_count": 3,
      "outputs": []
    },
    {
      "cell_type": "code",
      "metadata": {
        "id": "xw_RtxlbGZjP",
        "colab_type": "code",
        "colab": {
          "base_uri": "https://localhost:8080/",
          "height": 51
        },
        "outputId": "845109ef-bb3e-47b4-b3f2-17cc804c9299"
      },
      "source": [
        "dataset = tf.keras.datasets.cifar10\n",
        "\n",
        "(x_train, y_train), (x_test, y_test) = dataset.load_data()\n",
        "x_train, x_test = x_train / 255.0, x_test / 255.0"
      ],
      "execution_count": 4,
      "outputs": [
        {
          "output_type": "stream",
          "text": [
            "Downloading data from https://www.cs.toronto.edu/~kriz/cifar-10-python.tar.gz\n",
            "170500096/170498071 [==============================] - 2s 0us/step\n"
          ],
          "name": "stdout"
        }
      ]
    },
    {
      "cell_type": "code",
      "metadata": {
        "id": "KGKcN11uGrm4",
        "colab_type": "code",
        "colab": {}
      },
      "source": [
        "train_ds = tf.data.Dataset.from_tensor_slices(\n",
        "    (x_train, y_train)).shuffle(10000).batch(64)\n",
        "test_ds = tf.data.Dataset.from_tensor_slices((x_test, y_test)).batch(64)"
      ],
      "execution_count": 5,
      "outputs": []
    },
    {
      "cell_type": "code",
      "metadata": {
        "id": "cJLDG5YQGt0Y",
        "colab_type": "code",
        "colab": {}
      },
      "source": [
        "teacher = tf.keras.applications.ResNet50(weights=None, input_shape=(32, 32, 3), classes=10)\n",
        "teacher.load_weights('teacher.h5')\n",
        "student = tf.keras.applications.MobileNetV2(weights=None, input_shape=(32, 32, 3), classes=10)"
      ],
      "execution_count": 6,
      "outputs": []
    },
    {
      "cell_type": "code",
      "metadata": {
        "id": "1nFlA-hBSpx2",
        "colab_type": "code",
        "colab": {
          "base_uri": "https://localhost:8080/",
          "height": 34
        },
        "outputId": "3bebf177-3676-4d59-c26b-087d534c7688"
      },
      "source": [
        "student = dist(\n",
        "    teacher=teacher,\n",
        "    student=student,\n",
        "    algo=ST(alpha=0.6, T=2.5),\n",
        "    optimizer=tf.keras.optimizers.Adam(),\n",
        "    train_ds=train_ds,\n",
        "    test_ds=test_ds,\n",
        "    iterations=15000\n",
        ")"
      ],
      "execution_count": 7,
      "outputs": [
        {
          "output_type": "stream",
          "text": [
            "Training - 15000/15000 [██████████████████████████████] ELP: 09:26, accuracy: 0.5490 - val_accuracy: 0.5501 "
          ],
          "name": "stderr"
        }
      ]
    }
  ]
}